{
 "cells": [
  {
   "cell_type": "code",
   "execution_count": 6,
   "id": "6f25574f",
   "metadata": {},
   "outputs": [],
   "source": [
    "import pandas as pd\n",
    "from tqdm import tqdm"
   ]
  },
  {
   "cell_type": "code",
   "execution_count": 29,
   "id": "b7698619",
   "metadata": {},
   "outputs": [
    {
     "data": {
      "text/html": [
       "<div>\n",
       "<style scoped>\n",
       "    .dataframe tbody tr th:only-of-type {\n",
       "        vertical-align: middle;\n",
       "    }\n",
       "\n",
       "    .dataframe tbody tr th {\n",
       "        vertical-align: top;\n",
       "    }\n",
       "\n",
       "    .dataframe thead th {\n",
       "        text-align: right;\n",
       "    }\n",
       "</style>\n",
       "<table border=\"1\" class=\"dataframe\">\n",
       "  <thead>\n",
       "    <tr style=\"text-align: right;\">\n",
       "      <th></th>\n",
       "      <th>Unnamed: 0.1</th>\n",
       "      <th>time</th>\n",
       "      <th>review</th>\n",
       "      <th>comment</th>\n",
       "      <th>like</th>\n",
       "      <th>url</th>\n",
       "      <th>doc</th>\n",
       "      <th>token</th>\n",
       "      <th>text_noun</th>\n",
       "    </tr>\n",
       "  </thead>\n",
       "  <tbody>\n",
       "    <tr>\n",
       "      <th>0</th>\n",
       "      <td>0</td>\n",
       "      <td>2019. 1. 13. 21:35</td>\n",
       "      <td>✿✿✿     합정 술집 : 인스타 대장 \"엉클조빠\" 합정 칵테일바 ...</td>\n",
       "      <td>[]</td>\n",
       "      <td>8</td>\n",
       "      <td>https://blog.naver.com/14thmay/221441149660</td>\n",
       "      <td>합정 술집 인스타 대장 엉클조빠 합정 칵테일바 몽글 복사 이웃추가 본문 기타 기능...</td>\n",
       "      <td>['합정', '인스타', '대장', '엉클다', '빠', '합정', '칵테일', '...</td>\n",
       "      <td>['합정', '인스타', '대장', '빠', '합정', '칵테일', '바', '이웃...</td>\n",
       "    </tr>\n",
       "    <tr>\n",
       "      <th>1</th>\n",
       "      <td>1</td>\n",
       "      <td>2019. 1. 5. 13:31</td>\n",
       "      <td>맛집     서면 술집 추천 갬성 인스타감성 분위기 술집    ...</td>\n",
       "      <td>[]</td>\n",
       "      <td>15</td>\n",
       "      <td>https://blog.naver.com/nodaybuttoday/221434831902</td>\n",
       "      <td>맛집 서면 술집 추천 갬성 인스타감성 분위기 술집 진작 복사 이웃추가 본문 기타 ...</td>\n",
       "      <td>['서면', '추천', '개다', '성', '인스타', '감성', '분위기', '진...</td>\n",
       "      <td>['서면', '추천', '성', '인스타', '감성', '분위기', '진작', '이...</td>\n",
       "    </tr>\n",
       "    <tr>\n",
       "      <th>2</th>\n",
       "      <td>2</td>\n",
       "      <td>2019. 1. 27. 22:20</td>\n",
       "      <td>술집     창원 애월애, 인스타 감성 술집       텔스  ...</td>\n",
       "      <td>[]</td>\n",
       "      <td>4</td>\n",
       "      <td>https://blog.naver.com/seyyyoung/221452442833</td>\n",
       "      <td>술집 창원 애월애 인스타 감성 술집 텔스 복사 이웃추가 본문 기타 기능 지도로 보...</td>\n",
       "      <td>['창원', '애월애', '인스타', '감성', '텔스', '이웃', '추가', '...</td>\n",
       "      <td>['창원', '애월애', '인스타', '감성', '텔스', '이웃', '추가', '...</td>\n",
       "    </tr>\n",
       "    <tr>\n",
       "      <th>3</th>\n",
       "      <td>3</td>\n",
       "      <td>2019. 1. 21. 17:00</td>\n",
       "      <td>냠냠     이태원 분위기 좋은 술집 볼레로 인스타감성 술집  ...</td>\n",
       "      <td>[]</td>\n",
       "      <td>23</td>\n",
       "      <td>https://blog.naver.com/hongki1990/221447452932</td>\n",
       "      <td>냠냠 이태원 분위기 좋은 술집 볼레로 인스타감성 술집 승블로리 복사 이웃추가 본문...</td>\n",
       "      <td>['이태원', '분위기', '볼레로', '인스타', '감성', '승블', '로리',...</td>\n",
       "      <td>['이태원', '분위기', '볼레로', '인스타', '감성', '승블', '로리',...</td>\n",
       "    </tr>\n",
       "    <tr>\n",
       "      <th>4</th>\n",
       "      <td>4</td>\n",
       "      <td>2019. 1. 5. 2:57</td>\n",
       "      <td>식당     여수 학동 술집 추천 / 인스타 핫플 파흐베륵      ...</td>\n",
       "      <td>[]</td>\n",
       "      <td>7</td>\n",
       "      <td>https://blog.naver.com/soso__log/221434626247</td>\n",
       "      <td>식당 여수 학동 술집 추천 인스타 핫플 파흐베륵 소엥이 복사 이웃추가 본문 기타 ...</td>\n",
       "      <td>['식당', '여수', '학동', '추천', '인스타', '핫', '파흐베륵', '...</td>\n",
       "      <td>['식당', '여수', '학동', '추천', '인스타', '핫', '파흐베륵', '...</td>\n",
       "    </tr>\n",
       "  </tbody>\n",
       "</table>\n",
       "</div>"
      ],
      "text/plain": [
       "   Unnamed: 0.1                time  \\\n",
       "0             0  2019. 1. 13. 21:35   \n",
       "1             1   2019. 1. 5. 13:31   \n",
       "2             2  2019. 1. 27. 22:20   \n",
       "3             3  2019. 1. 21. 17:00   \n",
       "4             4    2019. 1. 5. 2:57   \n",
       "\n",
       "                                              review comment like  \\\n",
       "0          ✿✿✿     합정 술집 : 인스타 대장 \"엉클조빠\" 합정 칵테일바 ...      []    8   \n",
       "1             맛집     서면 술집 추천 갬성 인스타감성 분위기 술집    ...      []   15   \n",
       "2             술집     창원 애월애, 인스타 감성 술집       텔스  ...      []    4   \n",
       "3             냠냠     이태원 분위기 좋은 술집 볼레로 인스타감성 술집  ...      []   23   \n",
       "4          식당     여수 학동 술집 추천 / 인스타 핫플 파흐베륵      ...      []    7   \n",
       "\n",
       "                                                 url  \\\n",
       "0        https://blog.naver.com/14thmay/221441149660   \n",
       "1  https://blog.naver.com/nodaybuttoday/221434831902   \n",
       "2      https://blog.naver.com/seyyyoung/221452442833   \n",
       "3     https://blog.naver.com/hongki1990/221447452932   \n",
       "4      https://blog.naver.com/soso__log/221434626247   \n",
       "\n",
       "                                                 doc  \\\n",
       "0   합정 술집 인스타 대장 엉클조빠 합정 칵테일바 몽글 복사 이웃추가 본문 기타 기능...   \n",
       "1   맛집 서면 술집 추천 갬성 인스타감성 분위기 술집 진작 복사 이웃추가 본문 기타 ...   \n",
       "2   술집 창원 애월애 인스타 감성 술집 텔스 복사 이웃추가 본문 기타 기능 지도로 보...   \n",
       "3   냠냠 이태원 분위기 좋은 술집 볼레로 인스타감성 술집 승블로리 복사 이웃추가 본문...   \n",
       "4   식당 여수 학동 술집 추천 인스타 핫플 파흐베륵 소엥이 복사 이웃추가 본문 기타 ...   \n",
       "\n",
       "                                               token  \\\n",
       "0  ['합정', '인스타', '대장', '엉클다', '빠', '합정', '칵테일', '...   \n",
       "1  ['서면', '추천', '개다', '성', '인스타', '감성', '분위기', '진...   \n",
       "2  ['창원', '애월애', '인스타', '감성', '텔스', '이웃', '추가', '...   \n",
       "3  ['이태원', '분위기', '볼레로', '인스타', '감성', '승블', '로리',...   \n",
       "4  ['식당', '여수', '학동', '추천', '인스타', '핫', '파흐베륵', '...   \n",
       "\n",
       "                                           text_noun  \n",
       "0  ['합정', '인스타', '대장', '빠', '합정', '칵테일', '바', '이웃...  \n",
       "1  ['서면', '추천', '성', '인스타', '감성', '분위기', '진작', '이...  \n",
       "2  ['창원', '애월애', '인스타', '감성', '텔스', '이웃', '추가', '...  \n",
       "3  ['이태원', '분위기', '볼레로', '인스타', '감성', '승블', '로리',...  \n",
       "4  ['식당', '여수', '학동', '추천', '인스타', '핫', '파흐베륵', '...  "
      ]
     },
     "execution_count": 29,
     "metadata": {},
     "output_type": "execute_result"
    }
   ],
   "source": [
    "df = pd.read_csv('2019술집(전처리).csv',encoding='utf-8-sig')\n",
    "del df['Unnamed: 0']\n",
    "df.head()"
   ]
  },
  {
   "cell_type": "code",
   "execution_count": 31,
   "id": "7d966631",
   "metadata": {},
   "outputs": [],
   "source": [
    "from konlpy.tag import Okt\n",
    "okt=Okt()\n",
    "\n",
    "#명동형부 main_pos\n",
    "def postagging(dataframe):\n",
    "    main_pos = []   # 데이터프레임의 새 컬럼이 될 리스트 생성\n",
    "    for sentence in tqdm(df['doc']):  # 리뷰들을 하니씩 가지고 오기\n",
    "        pos = okt.pos(sentence, norm=True, stem=True)  # 형태소 분석\n",
    "        main_words = [word_pos[0] for word_pos in pos if word_pos[1] in\n",
    "                     ('Adjective', # 형용사\n",
    "                     'Noun',       # 명사\n",
    "                     'Adverb',     # 부사\n",
    "                     'Verd',)]     # 동사\n",
    "        \n",
    "        main_word_str = \" \".join(main_words)\n",
    "        #main_words리스트 안의 형태소들을 띄워쓰기로 분리된 하나의 문자열로 join\n",
    "        main_pos.append(main_word_str)\n",
    "        #선택한 형태소들로 이루어진 문자열을 최종 리스트에 추가\n",
    "        df['main_pos'] = pd.DataFrame(main_pos)\n",
    "        #리스트를 데이터프레임으로 변환해 main_pos라는 컬럼명으로 추가"
   ]
  },
  {
   "cell_type": "code",
   "execution_count": 32,
   "id": "19da14c3",
   "metadata": {},
   "outputs": [
    {
     "name": "stderr",
     "output_type": "stream",
     "text": [
      "100%|████████████████████████████████████████████████████████████████████████████| 13397/13397 [09:33<00:00, 23.38it/s]\n"
     ]
    }
   ],
   "source": [
    "postagging(df)"
   ]
  },
  {
   "cell_type": "code",
   "execution_count": 33,
   "id": "640fae41",
   "metadata": {},
   "outputs": [
    {
     "name": "stderr",
     "output_type": "stream",
     "text": [
      "100%|███████████████████████████████████████████████████████████████████████████| 13397/13397 [02:13<00:00, 100.03it/s]\n"
     ]
    }
   ],
   "source": [
    "### 명사 noun\n",
    "\n",
    "def postagging2(dataframe):\n",
    "    noun = [] # 명사 리스트\n",
    "    for sentence in tqdm(dataframe['main_pos']): \n",
    "        pos = okt.pos(sentence) # 형태소 분석\n",
    "        main_words = [word_pos[0] for word_pos in pos if word_pos[1] in ('Noun')] # 명사\n",
    "        \n",
    "        main_words_str = \" \".join(main_words) \n",
    "        noun.append(main_words_str) \n",
    "        dataframe[\"noun\"] = pd.DataFrame(noun) \n",
    "\n",
    "postagging2(df)"
   ]
  },
  {
   "cell_type": "code",
   "execution_count": 34,
   "id": "198b52d8",
   "metadata": {},
   "outputs": [
    {
     "data": {
      "text/html": [
       "<div>\n",
       "<style scoped>\n",
       "    .dataframe tbody tr th:only-of-type {\n",
       "        vertical-align: middle;\n",
       "    }\n",
       "\n",
       "    .dataframe tbody tr th {\n",
       "        vertical-align: top;\n",
       "    }\n",
       "\n",
       "    .dataframe thead th {\n",
       "        text-align: right;\n",
       "    }\n",
       "</style>\n",
       "<table border=\"1\" class=\"dataframe\">\n",
       "  <thead>\n",
       "    <tr style=\"text-align: right;\">\n",
       "      <th></th>\n",
       "      <th>doc</th>\n",
       "      <th>main_pos</th>\n",
       "      <th>noun</th>\n",
       "    </tr>\n",
       "  </thead>\n",
       "  <tbody>\n",
       "    <tr>\n",
       "      <th>0</th>\n",
       "      <td>합정 술집 인스타 대장 엉클조빠 합정 칵테일바 몽글 복사 이웃추가 본문 기타 기능...</td>\n",
       "      <td>합정 술집 인스타 대장 빠 합정 칵테일 바 몽글 복사 이웃 추가 본문 기타 기능 지...</td>\n",
       "      <td>합정 술집 인스타 대장 빠 합정 칵테일 바 복사 이웃 추가 본문 기타 기능 지도 보...</td>\n",
       "    </tr>\n",
       "    <tr>\n",
       "      <th>1</th>\n",
       "      <td>맛집 서면 술집 추천 갬성 인스타감성 분위기 술집 진작 복사 이웃추가 본문 기타 ...</td>\n",
       "      <td>맛집 서면 술집 추천 성 인스타 감성 분위기 술집 진작 복사 이웃 추가 본문 기타 ...</td>\n",
       "      <td>맛집 서면 술집 추천 성 인스타 감성 분위기 술집 진작 복사 이웃 추가 본문 기타 ...</td>\n",
       "    </tr>\n",
       "    <tr>\n",
       "      <th>2</th>\n",
       "      <td>술집 창원 애월애 인스타 감성 술집 텔스 복사 이웃추가 본문 기타 기능 지도로 보...</td>\n",
       "      <td>술집 창원 애월애 인스타 감성 술집 텔스 복사 이웃 추가 본문 기타 기능 지도 보기...</td>\n",
       "      <td>술집 창원 애월애 인스타 감성 술집 텔스 복사 이웃 추가 본문 기타 기능 지도 보기...</td>\n",
       "    </tr>\n",
       "    <tr>\n",
       "      <th>3</th>\n",
       "      <td>냠냠 이태원 분위기 좋은 술집 볼레로 인스타감성 술집 승블로리 복사 이웃추가 본문...</td>\n",
       "      <td>냠냠 이태원 분위기 좋다 술집 볼레로 인스타 감성 술집 승블 로리 복사 이웃 추가 ...</td>\n",
       "      <td>이태원 분위기 술집 볼레로 인스타 감성 술집 승블 로리 복사 이웃 추가 본문 기타 ...</td>\n",
       "    </tr>\n",
       "    <tr>\n",
       "      <th>4</th>\n",
       "      <td>식당 여수 학동 술집 추천 인스타 핫플 파흐베륵 소엥이 복사 이웃추가 본문 기타 ...</td>\n",
       "      <td>식당 여수 학동 술집 추천 인스타 핫 파흐베륵 소엥 복사 이웃 추가 본문 기타 기능...</td>\n",
       "      <td>식당 여수 학동 술집 추천 인스타 핫 파흐베륵 소 복사 이웃 추가 본문 기타 기능 ...</td>\n",
       "    </tr>\n",
       "  </tbody>\n",
       "</table>\n",
       "</div>"
      ],
      "text/plain": [
       "                                                 doc  \\\n",
       "0   합정 술집 인스타 대장 엉클조빠 합정 칵테일바 몽글 복사 이웃추가 본문 기타 기능...   \n",
       "1   맛집 서면 술집 추천 갬성 인스타감성 분위기 술집 진작 복사 이웃추가 본문 기타 ...   \n",
       "2   술집 창원 애월애 인스타 감성 술집 텔스 복사 이웃추가 본문 기타 기능 지도로 보...   \n",
       "3   냠냠 이태원 분위기 좋은 술집 볼레로 인스타감성 술집 승블로리 복사 이웃추가 본문...   \n",
       "4   식당 여수 학동 술집 추천 인스타 핫플 파흐베륵 소엥이 복사 이웃추가 본문 기타 ...   \n",
       "\n",
       "                                            main_pos  \\\n",
       "0  합정 술집 인스타 대장 빠 합정 칵테일 바 몽글 복사 이웃 추가 본문 기타 기능 지...   \n",
       "1  맛집 서면 술집 추천 성 인스타 감성 분위기 술집 진작 복사 이웃 추가 본문 기타 ...   \n",
       "2  술집 창원 애월애 인스타 감성 술집 텔스 복사 이웃 추가 본문 기타 기능 지도 보기...   \n",
       "3  냠냠 이태원 분위기 좋다 술집 볼레로 인스타 감성 술집 승블 로리 복사 이웃 추가 ...   \n",
       "4  식당 여수 학동 술집 추천 인스타 핫 파흐베륵 소엥 복사 이웃 추가 본문 기타 기능...   \n",
       "\n",
       "                                                noun  \n",
       "0  합정 술집 인스타 대장 빠 합정 칵테일 바 복사 이웃 추가 본문 기타 기능 지도 보...  \n",
       "1  맛집 서면 술집 추천 성 인스타 감성 분위기 술집 진작 복사 이웃 추가 본문 기타 ...  \n",
       "2  술집 창원 애월애 인스타 감성 술집 텔스 복사 이웃 추가 본문 기타 기능 지도 보기...  \n",
       "3  이태원 분위기 술집 볼레로 인스타 감성 술집 승블 로리 복사 이웃 추가 본문 기타 ...  \n",
       "4  식당 여수 학동 술집 추천 인스타 핫 파흐베륵 소 복사 이웃 추가 본문 기타 기능 ...  "
      ]
     },
     "execution_count": 34,
     "metadata": {},
     "output_type": "execute_result"
    }
   ],
   "source": [
    "df = df[['doc','main_pos','noun']]\n",
    "df.head()"
   ]
  },
  {
   "cell_type": "code",
   "execution_count": 35,
   "id": "f5af0b0e",
   "metadata": {},
   "outputs": [],
   "source": [
    "#한국어불용어리스트\n",
    "#출처:https://mr-doosun.tistory.com/24\n",
    "#출처: https://wikidocs.net/77135\n",
    "\n",
    "stopwords = '있어요 입니다 해서 그냥 같아요 아 휴 아이구 아이쿠 아이고 어 나 우리 저희 따라 의해 을 를 에 의 가 으로 로 에게 뿐이다 의거하여 근거하여 입각하여 기준으로 예하면 예를 들면 예를 들자면 저 소인 소생 저희 지말고 하지마 하지마라 다른 물론 또한 그리고 비길수 없다 해서는 안된다 뿐만 아니라 만이 아니다 만은 아니다 막론하고 관계없이 그치지 않다 그러나 그런데 하지만 든간에 논하지 않다 따지지 않다 설사 비록 더라도 아니면 만 못하다 하는 편이 낫다 불문하고 향하여 향해서 향하다 쪽으로 틈타 이용하여 타다 오르다 제외하고 이 외에 이 밖에 하여야 비로소 한다면 몰라도 외에도 이곳 여기 부터 기점으로 따라서 할 생각이다 하려고하다 이리하여 그리하여 그렇게 함으로써 하지만 일때 할때 앞에서 중에서 보는데서 으로써 로써 까지 해야한다 일것이다 반드시 할줄알다 할수있다 할수있어 임에 틀림없다 한다면 등 등등 제 겨우 단지 다만 할뿐 딩동 댕그 대해서 대하여 대하면 훨씬 남짓 여 얼마간 약간 다소 좀 조금 다수 몇 얼마 지만 하물며 또한 그러나 그렇지만 하지만 이외에도 대해 말하자면 뿐이다 다음에 반대로 반대로 말하자면 이와 반대로 바꾸어서 말하면 바꾸어서 한다면 만약 그렇지않으면 까악 툭 딱 삐걱거리다 보드득 비걱거리다 꽈당 응당 해야한다 에 가서 각 각각 여러분 각종 각자 제각기 하도록하다 와 과 그러므로 그래서 고로 한 까닭에 하기 때문에 거니와 이지만 대하여 관하여 관한 과연 실로 아니나다를가 생각한대로 진짜로 한적이있다 하곤하였다 하 하하 허허 아하 거바 와 오 왜 어째서 무엇때문에 어찌 하겠는가 무슨 어디 어느곳 더군다나 하물며 더욱이는 어느때 언제 야 이봐 어이 여보시오 흐흐 흥 휴 헉헉 헐떡헐떡 영차 여차 어기여차 끙끙 아야 앗 아야 콸콸 졸졸 좍좍 뚝뚝 주룩주룩 솨 우르르 그래도 또 그리고 바꾸어말하면 바꾸어말하자면 혹은 혹시 답다 및 그에 따르는 때가 되어 즉 지든지 설령 가령 하더라도 할지라도 일지라도 지든지 몇 거의 하마터면 인젠 이젠 된바에야 된이상 만큼 어찌됏든 그위에 게다가 점에서 보아 비추어 보아 고려하면 하게될것이다 일것이다 비교적 좀 보다더 비하면 시키다 하게하다 할만하다 의해서 연이서 이어서 잇따라 뒤따라 뒤이어 결국 의지하여 기대여 통하여 자마자 더욱더 불구하고 얼마든지 마음대로 주저하지 않고 곧 즉시 바로 당장 하자마자 밖에 안된다 하면된다 그래 그렇지 요컨대 다시 말하자면 바꿔 말하면 즉 구체적으로 말하자면 시작하여 시초에 이상 허 헉 허걱 바와같이 해도좋다 해도된다 게다가 더구나 하물며 와르르 팍 퍽 펄렁 동안 이래 하고있었다 이었다 에서 로부터 까지 예하면 했어요 해요 함께 같이 더불어 마저 마저도 양자 모두 습니다 가까스로 하려고하다 즈음하여 다른 다른 방면으로 해봐요 습니까 했어요 말할것도 없고 무릎쓰고 개의치않고 하는것만 못하다 하는것이 낫다 매 매번 들 모 어느것 어느 로써 갖고말하자면 어디 어느쪽 어느것 어느해 어느 년도 라 해도 언젠가 어떤것 어느것 저기 저쪽 저것 그때 그럼 그러면 요만한걸 그래 그때 저것만큼 그저 이르기까지 할 줄 안다 할 힘이 있다 너 너희 당신 어찌 설마 차라리 할지언정 할지라도 할망정 할지언정 구토하다 게우다 토하다 메쓰겁다 옆사람 퉤 쳇 의거하여 근거하여 의해 따라 힘입어 그 다음 버금 두번째로 기타 첫번째로 나머지는 그중에서 견지에서 형식으로 쓰여 입장에서 위해서 단지 의해되다 하도록시키다 뿐만아니라 반대로 전후 전자 앞의것 잠시 잠깐 하면서 그렇지만 다음에 그러한즉 그런즉 남들 아무거나 어찌하든지 같다 비슷하다 예컨대 이럴정도로 어떻게 만약 만일 위에서 서술한바와같이 인 듯하다 하지 않는다면 만약에 무엇 무슨 어느 어떤 아래윗 조차 한데 그럼에도 불구하고 여전히 심지어 까지도 조차도 하지 않도록 않기 위하여 때 시각 무렵 시간 동안 어때 어떠한 하여금 네 예 우선 누구 누가 알겠는가 아무도 줄은모른다 줄은 몰랏다 하는 김에 겸사겸사 하는바 그런 까닭에 한 이유는 그러니 그러니까 때문에 그 너희 그들 너희들 타인 것 것들 너 위하여 공동으로 동시에 하기 위하여 어찌하여 무엇때문에 붕붕 윙윙 나 우리 엉엉 휘익 윙윙 오호 아하 어쨋든 만 못하다 하기보다는 차라리 하는 편이 낫다 흐흐 놀라다 상대적으로 말하자면 마치 아니라면 쉿 그렇지 않으면 그렇지 않다면 안 그러면 아니었다면 하든지 아니면 이라면 좋아 알았어 하는것도 그만이다 어쩔수 없다 하나 일 일반적으로 일단 한켠으로는 오자마자 이렇게되면 이와같다면 전부 한마디 한항목 근거로 하기에 아울러 하지 않도록 않기 위해서 이르기까지 이 되다 로 인하여 까닭으로 이유만으로 이로 인하여 그래서 이 때문에 그러므로 그런 까닭에 알 수 있다 결론을 낼 수 있다 으로 인하여 있다 어떤것 관계가 있다 관련이 있다 연관되다 어떤것들 에 대해 이리하여 그리하여 여부 하기보다는 하느니 하면 할수록 운운 이러이러하다 하구나 하도다 다시말하면 다음으로 에 있다 에 달려 있다 우리 우리들 오히려 하기는한데 어떻게 어떻해 어찌됏어 어때 어째서 본대로 자 이 이쪽 여기 이것 이번 이렇게말하자면 이런 이러한 이와 같은 요만큼 요만한 것 얼마 안 되는 것 이만큼 이 정도의 이렇게 많은 것 이와 같다 이때 이렇구나 것과 같이 끼익 삐걱 따위 와 같은 사람들 부류의 사람들 왜냐하면 중의하나 오직 오로지 에 한하다 하기만 하면 도착하다 까지 미치다 도달하다 정도에 이르다 할 지경이다 결과에 이르다 관해서는 여러분 하고 있다 한 후 혼자 자기 자기집 자신 우에 종합한것과같이 총적으로 보면 총적으로 말하면 총적으로 대로 하다 으로서 참 그만이다 할 따름이다 쿵 탕탕 쾅쾅 둥둥 봐 봐라 아이야 아니 와아 응 아이 참나 년 월 일 령 영 일 이 삼 사 오 육 륙 칠 팔 구 이천육 이천칠 이천팔 이천구 하나 둘 셋 넷 다섯 여섯 일곱 여덟 아홉 령 영 이 있 하 것 들 그 되 수 이 보 않 없 나 사람 주 아니 등 같 우리 때 년 가 한 지 대하 오 말 일 그렇 위하 때문 그것 두 말하 알 그러나 받 못하 일 그런 또 문제 더 사회 많 그리고 좋 크 따르 중 나오 가지 씨 시키 만들 지금 생각하 그러 속 하나 집 살 모르 적 월 데 자신 안 어떤 내 내 경우 명 생각 시간 그녀 다시 이런 앞 보이 번 나 다른 어떻 여자 개 전 들 사실 이렇 점 싶 말 정도 좀 원 잘 통하 놓 이 있 하 것 들 그 되 수 이 보 않 없 나 사람 주 아니 등 같 우리 때 년 가 한 지 대하 오 말 일 그렇 위하'.split() "
   ]
  },
  {
   "cell_type": "code",
   "execution_count": 36,
   "id": "6cfd202f",
   "metadata": {},
   "outputs": [
    {
     "ename": "KeyError",
     "evalue": "'cluster'",
     "output_type": "error",
     "traceback": [
      "\u001b[1;31m---------------------------------------------------------------------------\u001b[0m",
      "\u001b[1;31mKeyError\u001b[0m                                  Traceback (most recent call last)",
      "File \u001b[1;32m~\\anaconda3\\lib\\site-packages\\pandas\\core\\indexes\\base.py:3621\u001b[0m, in \u001b[0;36mIndex.get_loc\u001b[1;34m(self, key, method, tolerance)\u001b[0m\n\u001b[0;32m   3620\u001b[0m \u001b[38;5;28;01mtry\u001b[39;00m:\n\u001b[1;32m-> 3621\u001b[0m     \u001b[38;5;28;01mreturn\u001b[39;00m \u001b[38;5;28;43mself\u001b[39;49m\u001b[38;5;241;43m.\u001b[39;49m\u001b[43m_engine\u001b[49m\u001b[38;5;241;43m.\u001b[39;49m\u001b[43mget_loc\u001b[49m\u001b[43m(\u001b[49m\u001b[43mcasted_key\u001b[49m\u001b[43m)\u001b[49m\n\u001b[0;32m   3622\u001b[0m \u001b[38;5;28;01mexcept\u001b[39;00m \u001b[38;5;167;01mKeyError\u001b[39;00m \u001b[38;5;28;01mas\u001b[39;00m err:\n",
      "File \u001b[1;32m~\\anaconda3\\lib\\site-packages\\pandas\\_libs\\index.pyx:136\u001b[0m, in \u001b[0;36mpandas._libs.index.IndexEngine.get_loc\u001b[1;34m()\u001b[0m\n",
      "File \u001b[1;32m~\\anaconda3\\lib\\site-packages\\pandas\\_libs\\index.pyx:163\u001b[0m, in \u001b[0;36mpandas._libs.index.IndexEngine.get_loc\u001b[1;34m()\u001b[0m\n",
      "File \u001b[1;32mpandas\\_libs\\hashtable_class_helper.pxi:5198\u001b[0m, in \u001b[0;36mpandas._libs.hashtable.PyObjectHashTable.get_item\u001b[1;34m()\u001b[0m\n",
      "File \u001b[1;32mpandas\\_libs\\hashtable_class_helper.pxi:5206\u001b[0m, in \u001b[0;36mpandas._libs.hashtable.PyObjectHashTable.get_item\u001b[1;34m()\u001b[0m\n",
      "\u001b[1;31mKeyError\u001b[0m: 'cluster'",
      "\nThe above exception was the direct cause of the following exception:\n",
      "\u001b[1;31mKeyError\u001b[0m                                  Traceback (most recent call last)",
      "Cell \u001b[1;32mIn [36], line 5\u001b[0m\n\u001b[0;32m      1\u001b[0m \u001b[38;5;66;03m# 클러스터 별로 하나의 document를 만들어줌\u001b[39;00m\n\u001b[0;32m      2\u001b[0m \n\u001b[0;32m      3\u001b[0m \u001b[38;5;66;03m# 명동형부 tf_idf\u001b[39;00m\n\u001b[1;32m----> 5\u001b[0m doc0 \u001b[38;5;241m=\u001b[39m \u001b[38;5;124m'\u001b[39m\u001b[38;5;124m \u001b[39m\u001b[38;5;124m'\u001b[39m\u001b[38;5;241m.\u001b[39m join(df[\u001b[43mdf\u001b[49m\u001b[43m[\u001b[49m\u001b[38;5;124;43m'\u001b[39;49m\u001b[38;5;124;43mcluster\u001b[39;49m\u001b[38;5;124;43m'\u001b[39;49m\u001b[43m]\u001b[49m\u001b[38;5;241m==\u001b[39m\u001b[38;5;241m0\u001b[39m]\u001b[38;5;241m.\u001b[39mmain_pos)\n\u001b[0;32m      6\u001b[0m doc1 \u001b[38;5;241m=\u001b[39m \u001b[38;5;124m'\u001b[39m\u001b[38;5;124m \u001b[39m\u001b[38;5;124m'\u001b[39m\u001b[38;5;241m.\u001b[39m  join(df[df[\u001b[38;5;124m'\u001b[39m\u001b[38;5;124mcluster\u001b[39m\u001b[38;5;124m'\u001b[39m]\u001b[38;5;241m==\u001b[39m\u001b[38;5;241m1\u001b[39m]\u001b[38;5;241m.\u001b[39mmain_pos)\n\u001b[0;32m      7\u001b[0m doc2 \u001b[38;5;241m=\u001b[39m \u001b[38;5;124m'\u001b[39m\u001b[38;5;124m \u001b[39m\u001b[38;5;124m'\u001b[39m\u001b[38;5;241m.\u001b[39m  join(df[df[\u001b[38;5;124m'\u001b[39m\u001b[38;5;124mcluster\u001b[39m\u001b[38;5;124m'\u001b[39m]\u001b[38;5;241m==\u001b[39m\u001b[38;5;241m2\u001b[39m]\u001b[38;5;241m.\u001b[39mmain_pos)\n",
      "File \u001b[1;32m~\\anaconda3\\lib\\site-packages\\pandas\\core\\frame.py:3505\u001b[0m, in \u001b[0;36mDataFrame.__getitem__\u001b[1;34m(self, key)\u001b[0m\n\u001b[0;32m   3503\u001b[0m \u001b[38;5;28;01mif\u001b[39;00m \u001b[38;5;28mself\u001b[39m\u001b[38;5;241m.\u001b[39mcolumns\u001b[38;5;241m.\u001b[39mnlevels \u001b[38;5;241m>\u001b[39m \u001b[38;5;241m1\u001b[39m:\n\u001b[0;32m   3504\u001b[0m     \u001b[38;5;28;01mreturn\u001b[39;00m \u001b[38;5;28mself\u001b[39m\u001b[38;5;241m.\u001b[39m_getitem_multilevel(key)\n\u001b[1;32m-> 3505\u001b[0m indexer \u001b[38;5;241m=\u001b[39m \u001b[38;5;28;43mself\u001b[39;49m\u001b[38;5;241;43m.\u001b[39;49m\u001b[43mcolumns\u001b[49m\u001b[38;5;241;43m.\u001b[39;49m\u001b[43mget_loc\u001b[49m\u001b[43m(\u001b[49m\u001b[43mkey\u001b[49m\u001b[43m)\u001b[49m\n\u001b[0;32m   3506\u001b[0m \u001b[38;5;28;01mif\u001b[39;00m is_integer(indexer):\n\u001b[0;32m   3507\u001b[0m     indexer \u001b[38;5;241m=\u001b[39m [indexer]\n",
      "File \u001b[1;32m~\\anaconda3\\lib\\site-packages\\pandas\\core\\indexes\\base.py:3623\u001b[0m, in \u001b[0;36mIndex.get_loc\u001b[1;34m(self, key, method, tolerance)\u001b[0m\n\u001b[0;32m   3621\u001b[0m     \u001b[38;5;28;01mreturn\u001b[39;00m \u001b[38;5;28mself\u001b[39m\u001b[38;5;241m.\u001b[39m_engine\u001b[38;5;241m.\u001b[39mget_loc(casted_key)\n\u001b[0;32m   3622\u001b[0m \u001b[38;5;28;01mexcept\u001b[39;00m \u001b[38;5;167;01mKeyError\u001b[39;00m \u001b[38;5;28;01mas\u001b[39;00m err:\n\u001b[1;32m-> 3623\u001b[0m     \u001b[38;5;28;01mraise\u001b[39;00m \u001b[38;5;167;01mKeyError\u001b[39;00m(key) \u001b[38;5;28;01mfrom\u001b[39;00m \u001b[38;5;21;01merr\u001b[39;00m\n\u001b[0;32m   3624\u001b[0m \u001b[38;5;28;01mexcept\u001b[39;00m \u001b[38;5;167;01mTypeError\u001b[39;00m:\n\u001b[0;32m   3625\u001b[0m     \u001b[38;5;66;03m# If we have a listlike key, _check_indexing_error will raise\u001b[39;00m\n\u001b[0;32m   3626\u001b[0m     \u001b[38;5;66;03m#  InvalidIndexError. Otherwise we fall through and re-raise\u001b[39;00m\n\u001b[0;32m   3627\u001b[0m     \u001b[38;5;66;03m#  the TypeError.\u001b[39;00m\n\u001b[0;32m   3628\u001b[0m     \u001b[38;5;28mself\u001b[39m\u001b[38;5;241m.\u001b[39m_check_indexing_error(key)\n",
      "\u001b[1;31mKeyError\u001b[0m: 'cluster'"
     ]
    }
   ],
   "source": [
    "# 클러스터 별로 하나의 document를 만들어줌\n",
    "\n",
    "# 명동형부 tf_idf\n",
    "\n",
    "doc0 = ' '. join(df[df['cluster']==0].main_pos)\n",
    "doc1 = ' '.  join(df[df['cluster']==1].main_pos)\n",
    "doc2 = ' '.  join(df[df['cluster']==2].main_pos)\n",
    "\n",
    "\n",
    "#명사로만 tf-idf\n",
    "# doc0 = ' '. join(df[df['cluster']==0].noun)\n",
    "# doc1 = ' '.  join(df[df['cluster']==1].noun)\n",
    "# doc2 = ' '.  join(df[df['cluster']==2].noun)\n"
   ]
  },
  {
   "cell_type": "code",
   "execution_count": null,
   "id": "a9a3dd4e",
   "metadata": {},
   "outputs": [],
   "source": [
    "docs = [doc0,doc1,doc2]"
   ]
  },
  {
   "cell_type": "code",
   "execution_count": null,
   "id": "79cecea8",
   "metadata": {},
   "outputs": [],
   "source": [
    "# TfidfVectorizer 를 활용\n",
    "from sklearn.feature_extraction.text import TfidfVectorizer\n",
    "\n",
    "\n",
    "tfidf_vectorizer = TfidfVectorizer(max_features=500, stop_words=stopwords)\n",
    "tfidf_vectorizer_vectors = tfidf_vectorizer.fit_transform(docs)"
   ]
  },
  {
   "cell_type": "code",
   "execution_count": null,
   "id": "fe03c00c",
   "metadata": {},
   "outputs": [],
   "source": [
    "# 파일저장\n",
    "\n",
    "nums = range(0,3)   # cluster 개수 지정\n",
    "\n",
    "def tfidfv(documents):\n",
    "    for num in nums:\n",
    "        path = 'tf_idf_cluster_명동형부_%d.csv'%num   #파일을 저장할 위치 지정\n",
    "        \n",
    "        # tfidfvectorizer\n",
    "        first_vector_tfidfvectorizer = tfidf_vectorizer_vectors[num]\n",
    "        tfidf_df =pd.DataFrame(first_vector_tfidfvectorizer.T.todense(),\n",
    "                              index = tfidf_vectorizer.get_feature_names(),\n",
    "                             columns=['tfidf'])\n",
    "        a= tfidf_df.sort_values(by=['tfidf'],ascending=False)\n",
    "        a.to_csv(path, encoding='utf-8-sig')\n",
    "        \n",
    "tfidfv(docs)     "
   ]
  },
  {
   "cell_type": "code",
   "execution_count": null,
   "id": "4b6c7587",
   "metadata": {},
   "outputs": [],
   "source": []
  },
  {
   "cell_type": "code",
   "execution_count": null,
   "id": "6a883a86",
   "metadata": {},
   "outputs": [],
   "source": []
  }
 ],
 "metadata": {
  "kernelspec": {
   "display_name": "Python 3 (ipykernel)",
   "language": "python",
   "name": "python3"
  },
  "language_info": {
   "codemirror_mode": {
    "name": "ipython",
    "version": 3
   },
   "file_extension": ".py",
   "mimetype": "text/x-python",
   "name": "python",
   "nbconvert_exporter": "python",
   "pygments_lexer": "ipython3",
   "version": "3.9.12"
  }
 },
 "nbformat": 4,
 "nbformat_minor": 5
}
