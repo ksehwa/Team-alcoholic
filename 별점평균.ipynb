{
 "cells": [
  {
   "cell_type": "code",
   "execution_count": 19,
   "id": "68f1ebf5",
   "metadata": {},
   "outputs": [
    {
     "data": {
      "text/html": [
       "<div>\n",
       "<style scoped>\n",
       "    .dataframe tbody tr th:only-of-type {\n",
       "        vertical-align: middle;\n",
       "    }\n",
       "\n",
       "    .dataframe tbody tr th {\n",
       "        vertical-align: top;\n",
       "    }\n",
       "\n",
       "    .dataframe thead th {\n",
       "        text-align: right;\n",
       "    }\n",
       "</style>\n",
       "<table border=\"1\" class=\"dataframe\">\n",
       "  <thead>\n",
       "    <tr style=\"text-align: right;\">\n",
       "      <th></th>\n",
       "      <th>date</th>\n",
       "      <th>star</th>\n",
       "      <th>text</th>\n",
       "    </tr>\n",
       "  </thead>\n",
       "  <tbody>\n",
       "    <tr>\n",
       "      <th>0</th>\n",
       "      <td>2022-11-09</td>\n",
       "      <td>5</td>\n",
       "      <td>포장도 꼼꼼하고 패키지나 병 디자인 맛 가격까지 어느하나 빠지지 않는 레드와인입니다...</td>\n",
       "    </tr>\n",
       "    <tr>\n",
       "      <th>1</th>\n",
       "      <td>2022-10-31</td>\n",
       "      <td>5</td>\n",
       "      <td>스위트와인 베베마루결혼기념일에 기분가득내고싶어 주문했는데요우와 와인색도 정말 예쁘고...</td>\n",
       "    </tr>\n",
       "    <tr>\n",
       "      <th>2</th>\n",
       "      <td>2022-11-02</td>\n",
       "      <td>5</td>\n",
       "      <td>포장이 엄청 깔끔하게 되어있어서 좋았어요ㅎㅎ기념일에 항상 와인 한병을 마시는데선물용...</td>\n",
       "    </tr>\n",
       "    <tr>\n",
       "      <th>3</th>\n",
       "      <td>2022-11-07</td>\n",
       "      <td>5</td>\n",
       "      <td>이번에 가족들과 먹었는데 달달하고 포도향도 은은하게 풍기면서 목넘김도 좋은 와인이네...</td>\n",
       "    </tr>\n",
       "    <tr>\n",
       "      <th>4</th>\n",
       "      <td>2022-11-03</td>\n",
       "      <td>5</td>\n",
       "      <td>친구들과 집에서 생일파티 할때 마시려고 주문했습니다 달달하고 부드러운 맛이라 술을 ...</td>\n",
       "    </tr>\n",
       "    <tr>\n",
       "      <th>...</th>\n",
       "      <td>...</td>\n",
       "      <td>...</td>\n",
       "      <td>...</td>\n",
       "    </tr>\n",
       "    <tr>\n",
       "      <th>752</th>\n",
       "      <td>2018-12-28</td>\n",
       "      <td>5</td>\n",
       "      <td>누구나 즐길 수 있는 맛 술 못 마시는 엄마도 동생도 너무 좋아해요</td>\n",
       "    </tr>\n",
       "    <tr>\n",
       "      <th>753</th>\n",
       "      <td>2018-12-24</td>\n",
       "      <td>4</td>\n",
       "      <td>포장을 엄청 꼼꼼히 해주셨어요 감사합니다</td>\n",
       "    </tr>\n",
       "    <tr>\n",
       "      <th>754</th>\n",
       "      <td>2018-12-24</td>\n",
       "      <td>5</td>\n",
       "      <td>좋습니다 가족끼리 마셨는데 좋아요</td>\n",
       "    </tr>\n",
       "    <tr>\n",
       "      <th>755</th>\n",
       "      <td>2018-09-10</td>\n",
       "      <td>5</td>\n",
       "      <td>좋아요 월류원 와인 좋아요 병도 이쁘고 술색도 좋네요베베마루 아내를 위한 375미리...</td>\n",
       "    </tr>\n",
       "    <tr>\n",
       "      <th>756</th>\n",
       "      <td>2018-09-10</td>\n",
       "      <td>5</td>\n",
       "      <td>잘 받았어요</td>\n",
       "    </tr>\n",
       "  </tbody>\n",
       "</table>\n",
       "<p>757 rows × 3 columns</p>\n",
       "</div>"
      ],
      "text/plain": [
       "           date  star                                               text\n",
       "0    2022-11-09     5  포장도 꼼꼼하고 패키지나 병 디자인 맛 가격까지 어느하나 빠지지 않는 레드와인입니다...\n",
       "1    2022-10-31     5  스위트와인 베베마루결혼기념일에 기분가득내고싶어 주문했는데요우와 와인색도 정말 예쁘고...\n",
       "2    2022-11-02     5  포장이 엄청 깔끔하게 되어있어서 좋았어요ㅎㅎ기념일에 항상 와인 한병을 마시는데선물용...\n",
       "3    2022-11-07     5  이번에 가족들과 먹었는데 달달하고 포도향도 은은하게 풍기면서 목넘김도 좋은 와인이네...\n",
       "4    2022-11-03     5  친구들과 집에서 생일파티 할때 마시려고 주문했습니다 달달하고 부드러운 맛이라 술을 ...\n",
       "..          ...   ...                                                ...\n",
       "752  2018-12-28     5              누구나 즐길 수 있는 맛 술 못 마시는 엄마도 동생도 너무 좋아해요\n",
       "753  2018-12-24     4                             포장을 엄청 꼼꼼히 해주셨어요 감사합니다\n",
       "754  2018-12-24     5                                 좋습니다 가족끼리 마셨는데 좋아요\n",
       "755  2018-09-10     5  좋아요 월류원 와인 좋아요 병도 이쁘고 술색도 좋네요베베마루 아내를 위한 375미리...\n",
       "756  2018-09-10     5                                             잘 받았어요\n",
       "\n",
       "[757 rows x 3 columns]"
      ]
     },
     "execution_count": 19,
     "metadata": {},
     "output_type": "execute_result"
    }
   ],
   "source": [
    "import pandas as pd\n",
    "import numpy as np\n",
    "\n",
    "# 크롤링한 데이터 불러오기\n",
    "\n",
    "data = pd.read_csv('영동포도 디저트와인.csv', encoding='utf-8-sig')\n",
    "data"
   ]
  },
  {
   "cell_type": "code",
   "execution_count": 20,
   "id": "d271189c",
   "metadata": {},
   "outputs": [
    {
     "name": "stdout",
     "output_type": "stream",
     "text": [
      "평균 = \n",
      "4.87\n"
     ]
    }
   ],
   "source": [
    "data = data.astype({'star':'int'})\n",
    "print(\"평균 = \")\n",
    "if len(data) >= 600:\n",
    "    print(round(np.mean(data.sample(n = 600, replace = False)[\"star\"]), 2))\n",
    "else:\n",
    "    print(round(np.mean(data[\"star\"]), 2))"
   ]
  },
  {
   "cell_type": "code",
   "execution_count": null,
   "id": "901dfc6a",
   "metadata": {},
   "outputs": [],
   "source": []
  },
  {
   "cell_type": "code",
   "execution_count": null,
   "id": "84870faa",
   "metadata": {},
   "outputs": [],
   "source": []
  }
 ],
 "metadata": {
  "kernelspec": {
   "display_name": "Python 3 (ipykernel)",
   "language": "python",
   "name": "python3"
  },
  "language_info": {
   "codemirror_mode": {
    "name": "ipython",
    "version": 3
   },
   "file_extension": ".py",
   "mimetype": "text/x-python",
   "name": "python",
   "nbconvert_exporter": "python",
   "pygments_lexer": "ipython3",
   "version": "3.9.12"
  }
 },
 "nbformat": 4,
 "nbformat_minor": 5
}
