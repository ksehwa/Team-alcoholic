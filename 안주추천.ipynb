{
 "cells": [
  {
   "cell_type": "code",
   "execution_count": 1,
   "id": "3b66d255",
   "metadata": {},
   "outputs": [],
   "source": [
    "from modules import *\n",
    "from nltk.corpus import stopwords\n",
    "import nltk\n",
    "from nltk.stem import WordNetLemmatizer, SnowballStemmer\n",
    "from nltk.stem.porter import *\n",
    "from nltk import word_tokenize\n",
    "from konlpy.tag import Okt"
   ]
  },
  {
   "cell_type": "code",
   "execution_count": 2,
   "id": "553aa294",
   "metadata": {},
   "outputs": [],
   "source": [
    "data = pd.read_csv(\"paiksool.csv\", encoding='utf-8-sig')\n",
    "# data.drop_duplicates(['text'],ignore_index=True, inplace=True) # 중복 제거\n",
    "data.columns = ['num','name','explan','test','doc']"
   ]
  },
  {
   "cell_type": "code",
   "execution_count": 3,
   "id": "202d9fb7",
   "metadata": {},
   "outputs": [
    {
     "data": {
      "text/html": [
       "<div>\n",
       "<style scoped>\n",
       "    .dataframe tbody tr th:only-of-type {\n",
       "        vertical-align: middle;\n",
       "    }\n",
       "\n",
       "    .dataframe tbody tr th {\n",
       "        vertical-align: top;\n",
       "    }\n",
       "\n",
       "    .dataframe thead th {\n",
       "        text-align: right;\n",
       "    }\n",
       "</style>\n",
       "<table border=\"1\" class=\"dataframe\">\n",
       "  <thead>\n",
       "    <tr style=\"text-align: right;\">\n",
       "      <th></th>\n",
       "      <th>name</th>\n",
       "      <th>doc</th>\n",
       "    </tr>\n",
       "  </thead>\n",
       "  <tbody>\n",
       "    <tr>\n",
       "      <th>0</th>\n",
       "      <td>톡쏘는 제주감귤막걸리</td>\n",
       "      <td>톡쏘는 제주감귤막걸리, 어떤 술인가요?\\n청량상쾌 감귤 막걸리\\n상큼한 제주 감귤 ...</td>\n",
       "    </tr>\n",
       "    <tr>\n",
       "      <th>1</th>\n",
       "      <td>골목막걸리 프리미엄</td>\n",
       "      <td>골목막걸리 프리미엄, 어떤 술인가요?\\n풍부하고 짙은 맛과 향\\n골목막걸리 프리미엄...</td>\n",
       "    </tr>\n",
       "    <tr>\n",
       "      <th>2</th>\n",
       "      <td>원소주</td>\n",
       "      <td>원소주, 어떤 술인가요?\\n국내에서 가장 ‘핫’한 소주\\n원소주는 감미료 없이 우리...</td>\n",
       "    </tr>\n",
       "    <tr>\n",
       "      <th>3</th>\n",
       "      <td>오메기맑은술</td>\n",
       "      <td>오메기맑은술, 어떤 술인가요?\\n명인이 빚어낸 황금빛 제주의 자산\\n오메기맑은술은 ...</td>\n",
       "    </tr>\n",
       "    <tr>\n",
       "      <th>4</th>\n",
       "      <td>백제소주25</td>\n",
       "      <td>백제소주25, 어떤 술인가요?\\n향이 풍부한 명품 소주\\n백제소주25는 내변산 양조...</td>\n",
       "    </tr>\n",
       "    <tr>\n",
       "      <th>...</th>\n",
       "      <td>...</td>\n",
       "      <td>...</td>\n",
       "    </tr>\n",
       "    <tr>\n",
       "      <th>267</th>\n",
       "      <td>술샘 16</td>\n",
       "      <td>술샘 16, 어떤 술인가요?\\n오미자 본연의 맛과 향이 입안에 한 가득.\\n술샘 1...</td>\n",
       "    </tr>\n",
       "    <tr>\n",
       "      <th>268</th>\n",
       "      <td>죽력고</td>\n",
       "      <td>죽력고, 어떤 술인가요?\\n대나무의 고장,\\n담양을 담은 조선 3대 명주, 죽력고\\...</td>\n",
       "    </tr>\n",
       "    <tr>\n",
       "      <th>269</th>\n",
       "      <td>참조은 안동소주</td>\n",
       "      <td>참조은 안동소주, 어떤 술인가요?\\n100% 우리쌀로 빚은 전통 증류식 쌀소주,\\n...</td>\n",
       "    </tr>\n",
       "    <tr>\n",
       "      <th>270</th>\n",
       "      <td>꿀샘 16</td>\n",
       "      <td>꿀샘 16, 어떤 술인가요?\\n천연꿀로 완성한 달콤 향긋한 매력\\n꿀샘 16은 이름...</td>\n",
       "    </tr>\n",
       "    <tr>\n",
       "      <th>271</th>\n",
       "      <td>두레앙 22</td>\n",
       "      <td>두레앙 22, 어떤 술인가요?\\n천혜의 포도재배지 천안의 거봉포도의 향과 맛을 담은...</td>\n",
       "    </tr>\n",
       "  </tbody>\n",
       "</table>\n",
       "<p>272 rows × 2 columns</p>\n",
       "</div>"
      ],
      "text/plain": [
       "            name                                                doc\n",
       "0    톡쏘는 제주감귤막걸리  톡쏘는 제주감귤막걸리, 어떤 술인가요?\\n청량상쾌 감귤 막걸리\\n상큼한 제주 감귤 ...\n",
       "1     골목막걸리 프리미엄  골목막걸리 프리미엄, 어떤 술인가요?\\n풍부하고 짙은 맛과 향\\n골목막걸리 프리미엄...\n",
       "2            원소주  원소주, 어떤 술인가요?\\n국내에서 가장 ‘핫’한 소주\\n원소주는 감미료 없이 우리...\n",
       "3         오메기맑은술  오메기맑은술, 어떤 술인가요?\\n명인이 빚어낸 황금빛 제주의 자산\\n오메기맑은술은 ...\n",
       "4         백제소주25  백제소주25, 어떤 술인가요?\\n향이 풍부한 명품 소주\\n백제소주25는 내변산 양조...\n",
       "..           ...                                                ...\n",
       "267        술샘 16  술샘 16, 어떤 술인가요?\\n오미자 본연의 맛과 향이 입안에 한 가득.\\n술샘 1...\n",
       "268          죽력고  죽력고, 어떤 술인가요?\\n대나무의 고장,\\n담양을 담은 조선 3대 명주, 죽력고\\...\n",
       "269     참조은 안동소주  참조은 안동소주, 어떤 술인가요?\\n100% 우리쌀로 빚은 전통 증류식 쌀소주,\\n...\n",
       "270        꿀샘 16  꿀샘 16, 어떤 술인가요?\\n천연꿀로 완성한 달콤 향긋한 매력\\n꿀샘 16은 이름...\n",
       "271       두레앙 22  두레앙 22, 어떤 술인가요?\\n천혜의 포도재배지 천안의 거봉포도의 향과 맛을 담은...\n",
       "\n",
       "[272 rows x 2 columns]"
      ]
     },
     "execution_count": 3,
     "metadata": {},
     "output_type": "execute_result"
    }
   ],
   "source": [
    "df= data[['name','doc']]\n",
    "df"
   ]
  },
  {
   "cell_type": "code",
   "execution_count": 4,
   "id": "1c390173",
   "metadata": {},
   "outputs": [
    {
     "data": {
      "text/html": [
       "<div>\n",
       "<style scoped>\n",
       "    .dataframe tbody tr th:only-of-type {\n",
       "        vertical-align: middle;\n",
       "    }\n",
       "\n",
       "    .dataframe tbody tr th {\n",
       "        vertical-align: top;\n",
       "    }\n",
       "\n",
       "    .dataframe thead th {\n",
       "        text-align: right;\n",
       "    }\n",
       "</style>\n",
       "<table border=\"1\" class=\"dataframe\">\n",
       "  <thead>\n",
       "    <tr style=\"text-align: right;\">\n",
       "      <th></th>\n",
       "      <th>name</th>\n",
       "      <th>doc</th>\n",
       "    </tr>\n",
       "  </thead>\n",
       "  <tbody>\n",
       "    <tr>\n",
       "      <th>32</th>\n",
       "      <td>금이산농원 복숭아와인</td>\n",
       "      <td>금이산농원 복숭아와인, 어떤 술인가요?\\n복숭아의 향긋함이 그대로 녹아있는 우리나라...</td>\n",
       "    </tr>\n",
       "    <tr>\n",
       "      <th>38</th>\n",
       "      <td>동학 1957</td>\n",
       "      <td>동학 1957, 어떤 술인가요?\\n2018 평창 동계올림픽 공식 판매주, 동학 19...</td>\n",
       "    </tr>\n",
       "    <tr>\n",
       "      <th>82</th>\n",
       "      <td>복순도가 손막걸리</td>\n",
       "      <td>복순도가 손막걸리, 어떤 술인가요?\\n샴페인에 버금가는 프리미엄 막걸리\\n복순도가 ...</td>\n",
       "    </tr>\n",
       "    <tr>\n",
       "      <th>84</th>\n",
       "      <td>복순도가 손막걸리</td>\n",
       "      <td>복순도가 손막걸리, 어떤 술인가요?\\n샴페인에 버금가는 프리미엄 막걸리\\n복순도가 ...</td>\n",
       "    </tr>\n",
       "    <tr>\n",
       "      <th>96</th>\n",
       "      <td>감홍로</td>\n",
       "      <td>감홍로, 어떤 술인가요?\\n달고 붉은 이슬.\\n조선 3대 명주, 감홍로\\n감홍로의 ...</td>\n",
       "    </tr>\n",
       "    <tr>\n",
       "      <th>100</th>\n",
       "      <td>명인 안동소주 22</td>\n",
       "      <td>명인 안동소주, 어떤 술인가요?\\n500년의 전통.\\n안동소주 비법 전수자인 명인이...</td>\n",
       "    </tr>\n",
       "    <tr>\n",
       "      <th>112</th>\n",
       "      <td>서울의밤</td>\n",
       "      <td>서울의 밤, 어떤 술인가요?\\n깊어가는 밤, 매실향에 푹 빠지고 싶다면?\\n한국형 ...</td>\n",
       "    </tr>\n",
       "    <tr>\n",
       "      <th>202</th>\n",
       "      <td>금설</td>\n",
       "      <td>금설, 어떤 술인가요?\\n금빛 눈 내리는 증류주\\n금빛 눈 내리는 술, 금설은 감압...</td>\n",
       "    </tr>\n",
       "    <tr>\n",
       "      <th>206</th>\n",
       "      <td>이화주</td>\n",
       "      <td>이화주, 어떤 술인가요?\\n배꽃 필 무렵 빚어낸 떠먹는 막걸리\\n요거트처럼 떠 먹는...</td>\n",
       "    </tr>\n",
       "    <tr>\n",
       "      <th>254</th>\n",
       "      <td>느린마을 막걸리</td>\n",
       "      <td>느린마을 막걸리, 어떤 술인가요?\\n국내 대표 술도가의 야심작, 느린마을\\n느린마을...</td>\n",
       "    </tr>\n",
       "  </tbody>\n",
       "</table>\n",
       "</div>"
      ],
      "text/plain": [
       "            name                                                doc\n",
       "32   금이산농원 복숭아와인  금이산농원 복숭아와인, 어떤 술인가요?\\n복숭아의 향긋함이 그대로 녹아있는 우리나라...\n",
       "38       동학 1957  동학 1957, 어떤 술인가요?\\n2018 평창 동계올림픽 공식 판매주, 동학 19...\n",
       "82     복순도가 손막걸리  복순도가 손막걸리, 어떤 술인가요?\\n샴페인에 버금가는 프리미엄 막걸리\\n복순도가 ...\n",
       "84     복순도가 손막걸리  복순도가 손막걸리, 어떤 술인가요?\\n샴페인에 버금가는 프리미엄 막걸리\\n복순도가 ...\n",
       "96           감홍로  감홍로, 어떤 술인가요?\\n달고 붉은 이슬.\\n조선 3대 명주, 감홍로\\n감홍로의 ...\n",
       "100   명인 안동소주 22  명인 안동소주, 어떤 술인가요?\\n500년의 전통.\\n안동소주 비법 전수자인 명인이...\n",
       "112         서울의밤  서울의 밤, 어떤 술인가요?\\n깊어가는 밤, 매실향에 푹 빠지고 싶다면?\\n한국형 ...\n",
       "202           금설  금설, 어떤 술인가요?\\n금빛 눈 내리는 증류주\\n금빛 눈 내리는 술, 금설은 감압...\n",
       "206          이화주  이화주, 어떤 술인가요?\\n배꽃 필 무렵 빚어낸 떠먹는 막걸리\\n요거트처럼 떠 먹는...\n",
       "254     느린마을 막걸리  느린마을 막걸리, 어떤 술인가요?\\n국내 대표 술도가의 야심작, 느린마을\\n느린마을..."
      ]
     },
     "execution_count": 4,
     "metadata": {},
     "output_type": "execute_result"
    }
   ],
   "source": [
    "df[(df['name']=='느린마을 막걸리') | (df['name']=='복순도가 손막걸리')|(df['name']=='금이산농원 복숭아와인')\n",
    "  |(df['name']=='동학 1957') |(df['name']== '감홍로')|(df['name']=='금설')|(df['name']=='도원결의 15')\n",
    "  |(df['name']=='서울의밤')|(df['name']=='명인 안동소주 22')|(df['name']=='바다 한잔 동해')|(df['name']=='이화주')]"
   ]
  },
  {
   "cell_type": "code",
   "execution_count": 21,
   "id": "6bb7e64b",
   "metadata": {},
   "outputs": [],
   "source": [
    "df[(df['name']=='느린마을 막걸리')]['doc'].to_csv('느린마을.txt',encoding='utf-8-sig')"
   ]
  },
  {
   "cell_type": "code",
   "execution_count": 6,
   "id": "a77f93c1",
   "metadata": {},
   "outputs": [
    {
     "ename": "NameError",
     "evalue": "name 'tokens' is not defined",
     "output_type": "error",
     "traceback": [
      "\u001b[1;31m---------------------------------------------------------------------------\u001b[0m",
      "\u001b[1;31mNameError\u001b[0m                                 Traceback (most recent call last)",
      "Cell \u001b[1;32mIn [6], line 3\u001b[0m\n\u001b[0;32m      1\u001b[0m \u001b[38;5;28;01mfrom\u001b[39;00m \u001b[38;5;21;01mgensim\u001b[39;00m\u001b[38;5;21;01m.\u001b[39;00m\u001b[38;5;21;01mmodels\u001b[39;00m \u001b[38;5;28;01mimport\u001b[39;00m Word2Vec\n\u001b[1;32m----> 3\u001b[0m w2v \u001b[38;5;241m=\u001b[39m Word2Vec(\u001b[43mtokens\u001b[49m, vector_size\u001b[38;5;241m=\u001b[39m \u001b[38;5;241m300\u001b[39m, window\u001b[38;5;241m=\u001b[39m\u001b[38;5;241m5\u001b[39m, min_count\u001b[38;5;241m=\u001b[39m\u001b[38;5;241m5\u001b[39m, epochs\u001b[38;5;241m=\u001b[39m\u001b[38;5;241m100\u001b[39m)\n\u001b[0;32m      4\u001b[0m word_vectors \u001b[38;5;241m=\u001b[39m w2v\u001b[38;5;241m.\u001b[39mwv\n\u001b[0;32m      5\u001b[0m vocabs \u001b[38;5;241m=\u001b[39m word_vectors\u001b[38;5;241m.\u001b[39mkey_to_index\n",
      "\u001b[1;31mNameError\u001b[0m: name 'tokens' is not defined"
     ]
    }
   ],
   "source": [
    "from gensim.models import Word2Vec\n",
    "\n",
    "w2v = Word2Vec(tokens, vector_size= 300, window=5, min_count=5, epochs=100)\n",
    "word_vectors = w2v.wv\n",
    "vocabs = word_vectors.key_to_index\n",
    "word_vectors_list = [word_vectors[v] for v in vocabs]\n",
    "len(vocabs)"
   ]
  },
  {
   "cell_type": "code",
   "execution_count": null,
   "id": "b0048784",
   "metadata": {},
   "outputs": [],
   "source": [
    "w2v.wv.most_similar(['음식'],topn=10)"
   ]
  },
  {
   "cell_type": "code",
   "execution_count": null,
   "id": "396e7963",
   "metadata": {},
   "outputs": [],
   "source": []
  }
 ],
 "metadata": {
  "kernelspec": {
   "display_name": "Python 3 (ipykernel)",
   "language": "python",
   "name": "python3"
  },
  "language_info": {
   "codemirror_mode": {
    "name": "ipython",
    "version": 3
   },
   "file_extension": ".py",
   "mimetype": "text/x-python",
   "name": "python",
   "nbconvert_exporter": "python",
   "pygments_lexer": "ipython3",
   "version": "3.9.12"
  }
 },
 "nbformat": 4,
 "nbformat_minor": 5
}
